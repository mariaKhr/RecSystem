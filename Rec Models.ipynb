{
  "cells": [
    {
      "cell_type": "markdown",
      "source": [
        "## **Imports**"
      ],
      "metadata": {
        "id": "fbxbB1DKAW1A"
      }
    },
    {
      "cell_type": "code",
      "execution_count": 1,
      "metadata": {
        "id": "eBFuMqjxA5Qy"
      },
      "outputs": [],
      "source": [
        "import numpy as np\n",
        "import pandas as pd\n",
        "from scipy.sparse import csr_matrix\n",
        "import scipy\n",
        "import torch\n",
        "import torch.nn as nn\n",
        "import torch.nn.functional as F\n",
        "\n",
        "import warnings\n",
        "warnings.filterwarnings('ignore')"
      ]
    },
    {
      "cell_type": "markdown",
      "source": [
        "## **Data**"
      ],
      "metadata": {
        "id": "YFxdAKxw7qLR"
      }
    },
    {
      "cell_type": "code",
      "source": [
        "def df_to_csr(df, n_users, n_items):\n",
        "    row = df['user_id']\n",
        "    col = df['item_id']\n",
        "    data = df['rating']\n",
        "    return csr_matrix((data, (row, col)), shape=(n_users, n_items))"
      ],
      "metadata": {
        "id": "hWHvYHaJOzXi"
      },
      "execution_count": 2,
      "outputs": []
    },
    {
      "cell_type": "code",
      "source": [
        "from sklearn.preprocessing import MultiLabelBinarizer\n",
        "\n",
        "item_info = pd.read_csv('movies.dat', sep='::', names=['item_id', 'title', 'genres'] , encoding='latin-1')\n",
        "num_for_item_id = {item_id: i for i, item_id in enumerate(np.unique(item_info['item_id']))}\n",
        "item_info['item_id'] = item_info['item_id'].map(num_for_item_id)\n",
        "item_info['genres'] = item_info['genres'].apply(lambda g: g.split('|'))\n",
        "\n",
        "mlb = MultiLabelBinarizer()\n",
        "item_genres = pd.DataFrame(mlb.fit_transform(item_info['genres'])).set_index(item_info['item_id'])"
      ],
      "metadata": {
        "id": "3FVHqRh8cO0F"
      },
      "execution_count": 3,
      "outputs": []
    },
    {
      "cell_type": "code",
      "source": [
        "all_data = pd.read_csv('ratings.dat', sep='::', names=['user_id', 'item_id', 'rating', 'datetime'], encoding='latin-1')\n",
        "\n",
        "num_for_user_id = {user_id: i for i, user_id in enumerate(np.unique(all_data['user_id']))}\n",
        "all_data['user_id'] = all_data['user_id'].map(num_for_user_id)\n",
        "all_data['item_id'] = all_data['item_id'].map(num_for_item_id)"
      ],
      "metadata": {
        "id": "nOQ3muN-xe1i"
      },
      "execution_count": 4,
      "outputs": []
    },
    {
      "cell_type": "code",
      "source": [
        "n_users = len(num_for_user_id)\n",
        "n_items = len(num_for_item_id)\n",
        "n_ratings = len(all_data)"
      ],
      "metadata": {
        "id": "1VQFL8F2Dvvh"
      },
      "execution_count": 5,
      "outputs": []
    },
    {
      "cell_type": "code",
      "source": [
        "from sklearn.model_selection import train_test_split\n",
        "\n",
        "train_data, test_data = train_test_split(all_data,\n",
        "                               stratify=all_data['user_id'],\n",
        "                               test_size=0.1,\n",
        "                               random_state=42)\n",
        "\n",
        "train_data_csr = df_to_csr(train_data, n_users, n_items)\n",
        "test_data_csr = df_to_csr(test_data, n_users, n_items)"
      ],
      "metadata": {
        "id": "-9rHDT_qageb"
      },
      "execution_count": 6,
      "outputs": []
    },
    {
      "cell_type": "markdown",
      "source": [
        "## **MostPopular, Trending, PrevioslyViewed**"
      ],
      "metadata": {
        "id": "7VV7n0vzv-FA"
      }
    },
    {
      "cell_type": "markdown",
      "source": [
        "### ***Based class for MostPopular, Trending, PrevioslyViewed***"
      ],
      "metadata": {
        "id": "QKn1USDv-To3"
      }
    },
    {
      "cell_type": "code",
      "source": [
        "class Based:\n",
        "    def predict_subset(self, user_subset):\n",
        "        len_subset = len(user_subset)\n",
        "        predict = np.repeat([self.item_rating], len_subset, axis=0)\n",
        "        return predict\n",
        "\n",
        "    def predict_df(self, df):\n",
        "        df['rating'] = self.item_rating[df['item_id']]\n",
        "        return df\n",
        "\n",
        "    def recommend_subset(self, user_subset, k, viewed=pd.DataFrame(columns=['user_id', 'item_id'])):\n",
        "        map = {user: i for i, user in enumerate(user_subset)}\n",
        "        viewed['user_id'] = viewed['user_id'].map(map)\n",
        "        viewed = viewed.dropna().astype(int)\n",
        "        \n",
        "        pred = self.predict_subset(user_subset)\n",
        "        pred[np.array(viewed['user_id']), np.array(viewed['item_id'])] = 0\n",
        "        unsorted_top_k = np.argpartition(-pred, k)[:,:k]\n",
        "        pred = np.take_along_axis(pred, unsorted_top_k, axis=1)\n",
        "        return np.take_along_axis(unsorted_top_k, np.argsort(-pred, axis=1), axis=1)\n",
        "      \n",
        "    def recommend_df(self, df, k):\n",
        "        predicted = self.predict_df(df).sort_values(by='rating', axis=0, ascending=False)\n",
        "        recommend = predicted.groupby('user_id').head(k)\n",
        "        recommend['rank'] = recommend.groupby('user_id').cumcount() + 1\n",
        "        return recommend.reset_index(drop=True)"
      ],
      "metadata": {
        "id": "SLZw5qyE-S_t"
      },
      "execution_count": 7,
      "outputs": []
    },
    {
      "cell_type": "markdown",
      "source": [
        "### ***Most Popular***"
      ],
      "metadata": {
        "id": "pxc_ToujlFi9"
      }
    },
    {
      "cell_type": "code",
      "execution_count": 8,
      "metadata": {
        "id": "EorbsLm9-tRB"
      },
      "outputs": [],
      "source": [
        "class MostPopular(Based):\n",
        "    def __init__(self):\n",
        "        self.item_rating = None\n",
        "        self.n_items = None\n",
        "\n",
        "    def fit(self, dataset, n_items):\n",
        "        self.n_items = n_items\n",
        "        missing = np.array(list(set(np.arange(self.n_items)) - set(dataset['item_id'])), dtype=int)\n",
        "        dataset = dataset.append(pd.DataFrame({'item_id': missing}))\n",
        "\n",
        "        self.item_rating = np.array(dataset.groupby('item_id')['item_id'].count())\n",
        "        self.item_rating[missing] = 0\n",
        "\n",
        "        return self"
      ]
    },
    {
      "cell_type": "markdown",
      "source": [
        "### ***Trending***"
      ],
      "metadata": {
        "id": "hv-j9yuFlPBz"
      }
    },
    {
      "cell_type": "code",
      "source": [
        "class Trending(Based):\n",
        "    def __init__(self):\n",
        "        self.item_rating = None\n",
        "        self.n_items = None\n",
        "        self.coef = None\n",
        "        self.start_time = None\n",
        "\n",
        "    def fit(self, dataset, n_items):\n",
        "        self.n_items = n_items\n",
        "        self.start_time = min(dataset['datetime'])\n",
        "        self.coef = 1 / (max(dataset['datetime']) - self.start_time)\n",
        "        dataset['weight'] = np.exp(-self.coef * (dataset['datetime'] - self.start_time))\n",
        "        \n",
        "        missing = np.array(list(set(np.arange(self.n_items)) - set(dataset['item_id'])), dtype=int)\n",
        "        dataset = dataset.append(pd.DataFrame({'item_id': missing}))\n",
        "        agg_dataset = dataset.groupby('item_id').agg({'weight': ['sum']})\n",
        "\n",
        "        self.item_rating = np.array(agg_dataset['weight', 'sum'])\n",
        "        self.item_rating[missing] = 0\n",
        "\n",
        "        return self"
      ],
      "metadata": {
        "id": "ZaQr9lPj8hm2"
      },
      "execution_count": 9,
      "outputs": []
    },
    {
      "cell_type": "markdown",
      "source": [
        "### ***PreviouslyViewed***"
      ],
      "metadata": {
        "id": "O0_X8jUKlXd0"
      }
    },
    {
      "cell_type": "code",
      "execution_count": 10,
      "metadata": {
        "id": "xQnUY5HXd1RA"
      },
      "outputs": [],
      "source": [
        "class PreviouslyViewed(Based):\n",
        "    def __init__(self):\n",
        "        self.item_rating = None\n",
        "        self.n_users = None\n",
        "        self.n_items = None\n",
        "\n",
        "    def _df_to_array(self, df):\n",
        "        grouped = df.groupby('user_id')['item_id'].apply(np.array).values\n",
        "        return np.reshape(np.concatenate(grouped), (len(grouped),-1))\n",
        "\n",
        "    def fit(self, dataset, n_items, n_users):\n",
        "        self.n_users = n_users\n",
        "        self.n_items = n_items\n",
        "        missing = np.array(list(set(np.arange(self.n_users)) - set(dataset['user_id'])), dtype=int)\n",
        "        dataset = dataset.append(pd.DataFrame({'user_id': missing}))\n",
        "\n",
        "        dataset.sort_values(by='datetime', ascending=False)\n",
        "        agg_dataset = dataset.groupby('user_id')['item_id'].apply(np.array)\n",
        "        self.item_rating = agg_dataset.to_list()\n",
        "\n",
        "        return self\n",
        "\n",
        "    def predict_subset(self, user_subset):\n",
        "        data = np.empty((0, 3))\n",
        "        for user in user_subset:\n",
        "            n_user_items = len(self.item_rating[user])\n",
        "            repeated_user = np.repeat(user, n_user_items)\n",
        "            items = self.item_rating[user]\n",
        "            rating = np.arange(1, n_user_items + 1)\n",
        "            data = np.concatenate((data, np.column_stack((repeated_user, items, rating))), axis=0)\n",
        "\n",
        "        return pd.DataFrame(data.astype(int), columns=['user_id', 'item_id', 'rating'])\n",
        "\n",
        "    def predict_df(self, df):\n",
        "        rating = []\n",
        "        for i, [user_id, item_id] in df.iterrows():\n",
        "            ind_item = np.where(self.item_rating[user_id] == item_id)[0]\n",
        "            rating.append(ind_item[0] + 1 if len(ind_item) > 0 else 0)\n",
        "        df['rating'] = rating \n",
        "\n",
        "        return df\n",
        "\n",
        "    def recommend_subset(self, user_subset, k, viewed=pd.DataFrame(columns=['user_id', 'item_id'])):\n",
        "        map = {user: i for i, user in enumerate(user_subset)}\n",
        "        viewed['user_id'] = viewed['user_id'].map(map)\n",
        "        viewed = viewed.dropna().astype(int)\n",
        "        \n",
        "        predicted = self.predict_subset(user_subset)        \n",
        "        predicted = predicted.drop(np.where(predicted['user_id'].isin(viewed['user_id']) & predicted['item_id'].isin(viewed['item_id']))[0])\n",
        "        recommend = predicted.groupby('user_id').head(k)\n",
        "        recommend['rank'] = recommend.groupby('user_id').cumcount() + 1\n",
        "\n",
        "        return self._df_to_array(recommend.reset_index(drop=True))\n",
        "\n",
        "    def recommend_df(self, df, k):\n",
        "        predicted = self.predict_df(df).sort_values(by='rating', axis=0)\n",
        "        recommend = predicted.groupby('user_id').head(k)\n",
        "        recommend['rank'] = recommend.groupby('user_id').cumcount() + 1\n",
        "        return recommend.reset_index(drop=True)"
      ]
    },
    {
      "cell_type": "markdown",
      "source": [
        "### *Comparison of working time*"
      ],
      "metadata": {
        "id": "0WGXiWBAAftz"
      }
    },
    {
      "cell_type": "code",
      "source": [
        "def with_apply_along_axis(data, k=10):\n",
        "    return np.apply_along_axis(lambda row: np.argsort(row)[::-1][:k], axis=1, arr=data)\n",
        "\n",
        "def with_argsort(data, k=10):\n",
        "    return np.argsort(data, axis=1)[:,::-1][:,:k]\n",
        "\n",
        "def with_argpartition(data, k=10):\n",
        "    unsorted = np.argpartition(-data, k)[:,:k]\n",
        "    data = np.take_along_axis(data, unsorted, axis=1)\n",
        "    return np.take_along_axis(unsorted, np.argsort(-data, axis=1), axis=1)\n",
        "\n",
        "def with_torch_sort(data, k=10):\n",
        "    data = torch.from_numpy(data)\n",
        "    return torch.sort(data, descending=True).indices[:,:k]\n",
        "\n",
        "def with_torch_argsort(data, k=10):\n",
        "    data = torch.from_numpy(data)\n",
        "    return torch.argsort(data, dim=1, descending=True)[:,:k]\n",
        "\n",
        "def with_torch_topk(data, k=10):\n",
        "    data = torch.from_numpy(data)    \n",
        "    return torch.topk(data, k).indices[:,:k]"
      ],
      "metadata": {
        "id": "qXS5MeKODqA1"
      },
      "execution_count": 11,
      "outputs": []
    },
    {
      "cell_type": "code",
      "source": [
        "model = MostPopular()\n",
        "model.fit(train_data, n_items)\n",
        "preds = model.predict_subset(np.arange(n_users))\n",
        "\n",
        "%timeit with_apply_along_axis(preds)\n",
        "%timeit with_argsort(preds)\n",
        "%timeit with_argpartition(preds)\n",
        "\n",
        "%timeit with_torch_sort(preds)\n",
        "%timeit with_torch_argsort(preds)\n",
        "%timeit with_torch_topk(preds)"
      ],
      "metadata": {
        "id": "3sKp-pG5CY61",
        "colab": {
          "base_uri": "https://localhost:8080/"
        },
        "outputId": "f6113899-21e2-492c-d85c-8d16e1675245"
      },
      "execution_count": 12,
      "outputs": [
        {
          "output_type": "stream",
          "name": "stdout",
          "text": [
            "1.43 s ± 24.7 ms per loop (mean ± std. dev. of 7 runs, 1 loop each)\n",
            "1.36 s ± 8.42 ms per loop (mean ± std. dev. of 7 runs, 1 loop each)\n",
            "125 ms ± 1.03 ms per loop (mean ± std. dev. of 7 runs, 10 loops each)\n",
            "1.51 s ± 6.87 ms per loop (mean ± std. dev. of 7 runs, 1 loop each)\n",
            "1.51 s ± 4.91 ms per loop (mean ± std. dev. of 7 runs, 1 loop each)\n",
            "56.5 ms ± 1.14 ms per loop (mean ± std. dev. of 7 runs, 10 loops each)\n"
          ]
        }
      ]
    },
    {
      "cell_type": "markdown",
      "source": [
        "## **UserBased, ItemBased, SVD, ContentBased**"
      ],
      "metadata": {
        "id": "IZqVipeewHPV"
      }
    },
    {
      "cell_type": "markdown",
      "source": [
        "### ***Based class for UserBased, ItemBased, SVD***"
      ],
      "metadata": {
        "id": "zgPNJJgNnUX5"
      }
    },
    {
      "cell_type": "code",
      "source": [
        "class Based:\n",
        "    def __init__(self, min_n_user_rating=700):\n",
        "        self.min_n_user_rating = min_n_user_rating\n",
        "      \n",
        "    def recommend(self, data, k, recs_to_remove=None):\n",
        "        preds = self.predict(data)\n",
        "\n",
        "        if recs_to_remove is not None:\n",
        "            recs_to_remove = np.array(recs_to_remove)\n",
        "            preds[recs_to_remove[:,0], recs_to_remove[:,1]] = 0\n",
        "\n",
        "        top_k = np.array(np.argpartition(-preds, k)[:,:k])\n",
        "        preds = np.take_along_axis(preds, top_k, axis=1)\n",
        "        top_k = np.take_along_axis(top_k, np.argsort(-preds, axis=1), axis=1)\n",
        "        return top_k"
      ],
      "metadata": {
        "id": "Nq3gOkwRnKnT"
      },
      "execution_count": 13,
      "outputs": []
    },
    {
      "cell_type": "code",
      "source": [
        "def row_mean(data):\n",
        "    sums = data.sum(axis=1).A1\n",
        "    counts = np.diff(data.indptr)\n",
        "    means = sums / counts\n",
        "    return means[np.newaxis].T\n",
        "\n",
        "def norm_rating(data):\n",
        "    counts = np.diff(data.indptr)\n",
        "    means = row_mean(data)\n",
        "    mc = np.repeat(means, counts)\n",
        "    \n",
        "    data_copy = data.copy()\n",
        "    data_copy.data = data_copy.data.astype(np.float64)\n",
        "    data_copy.data -= mc\n",
        "    return data_copy\n",
        "\n",
        "def vector_norm(data):\n",
        "    return np.sqrt(np.sum(data.power(2), axis=1))"
      ],
      "metadata": {
        "id": "qlsJn7kVOxId"
      },
      "execution_count": 14,
      "outputs": []
    },
    {
      "cell_type": "markdown",
      "source": [
        "### ***User Based***"
      ],
      "metadata": {
        "id": "JwOBs_cBmNuz"
      }
    },
    {
      "cell_type": "code",
      "source": [
        "pip install nmslib"
      ],
      "metadata": {
        "id": "lmabacgfTVQD",
        "colab": {
          "base_uri": "https://localhost:8080/"
        },
        "outputId": "a15aa270-6c2f-4341-fec4-6a05855ab86b"
      },
      "execution_count": 15,
      "outputs": [
        {
          "output_type": "stream",
          "name": "stdout",
          "text": [
            "Looking in indexes: https://pypi.org/simple, https://us-python.pkg.dev/colab-wheels/public/simple/\n",
            "Collecting nmslib\n",
            "  Downloading nmslib-2.1.1-cp37-cp37m-manylinux2010_x86_64.whl (13.5 MB)\n",
            "\u001b[K     |████████████████████████████████| 13.5 MB 3.7 MB/s \n",
            "\u001b[?25hRequirement already satisfied: numpy>=1.10.0 in /usr/local/lib/python3.7/dist-packages (from nmslib) (1.21.6)\n",
            "Collecting pybind11<2.6.2\n",
            "  Downloading pybind11-2.6.1-py2.py3-none-any.whl (188 kB)\n",
            "\u001b[K     |████████████████████████████████| 188 kB 67.9 MB/s \n",
            "\u001b[?25hRequirement already satisfied: psutil in /usr/local/lib/python3.7/dist-packages (from nmslib) (5.4.8)\n",
            "Installing collected packages: pybind11, nmslib\n",
            "Successfully installed nmslib-2.1.1 pybind11-2.6.1\n"
          ]
        }
      ]
    },
    {
      "cell_type": "code",
      "source": [
        "import nmslib"
      ],
      "metadata": {
        "id": "gwQu4SX1Cepw"
      },
      "execution_count": 16,
      "outputs": []
    },
    {
      "cell_type": "markdown",
      "source": [
        "Use Hierarchical Navigable Small World (HNSW) for approximate nearest neighbor search. [Habr](https://habr.com/ru/company/vk/blog/338360/)"
      ],
      "metadata": {
        "id": "OT6DsFoh03cS"
      }
    },
    {
      "cell_type": "code",
      "execution_count": 17,
      "metadata": {
        "id": "sp0p_1Ih-_6F"
      },
      "outputs": [],
      "source": [
        "class UserBased_HNSW(Based):\n",
        "    def fit(self, data):\n",
        "        self.data = norm_rating(data[data.getnnz(axis=1) >= self.min_n_user_rating])\n",
        "        self.norms = vector_norm(self.data)\n",
        "\n",
        "        self.index = nmslib.init(space='cosinesimil_sparse', method='hnsw', data_type=nmslib.DataType.SPARSE_VECTOR)\n",
        "        self.index.addDataPointBatch(self.data)\n",
        "        self.index.createIndex({}, print_progress=True)\n",
        "        return self\n",
        "\n",
        "    def predict(self, data):\n",
        "        neighbours, similarity = zip(*self.index.knnQueryBatch(data, k=10, num_threads=4))\n",
        "        neigh_data = np.take(self.data.toarray(), np.array(neighbours), axis=0)\n",
        "        similarity = np.array(similarity).reshape((neigh_data.shape[0], 1, -1))\n",
        "        rating = np.matmul(similarity, neigh_data).reshape(data.shape) + row_mean(data)\n",
        "        rating = np.nan_to_num(rating)\n",
        "        \n",
        "        assert rating.shape == data.shape\n",
        "        return rating"
      ]
    },
    {
      "cell_type": "code",
      "source": [
        "class UserBased(Based):\n",
        "    def fit(self, data):\n",
        "        self.data = norm_rating(data[data.getnnz(axis=1) >= self.min_n_user_rating])\n",
        "        self.norms = vector_norm(self.data)\n",
        "        \n",
        "        return self\n",
        "\n",
        "    def predict(self, data):\n",
        "        new_data = norm_rating(data)\n",
        "        new_norms = vector_norm(new_data)\n",
        "\n",
        "        scalar_dots = new_data.dot(self.data.T)\n",
        "        similarity = csr_matrix(scalar_dots / new_norms.dot(self.norms.T))\n",
        "        rating = np.array(similarity.dot(self.data).A / np.sum(similarity, axis=1)) + row_mean(data)\n",
        "        rating = np.nan_to_num(rating)\n",
        "        \n",
        "        assert rating.shape == data.shape\n",
        "        return rating"
      ],
      "metadata": {
        "id": "Ed5eWDtzTJPn"
      },
      "execution_count": 18,
      "outputs": []
    },
    {
      "cell_type": "code",
      "source": [
        "print('With HNSW:')\n",
        "user_based = UserBased_HNSW()\n",
        "%timeit user_based.fit(train_data_csr)\n",
        "%timeit user_based.predict(train_data_csr)\n",
        "\n",
        "print('Without:')\n",
        "user_based2 = UserBased()\n",
        "%timeit user_based2.fit(train_data_csr)\n",
        "%timeit user_based2.predict(train_data_csr)"
      ],
      "metadata": {
        "id": "TXfJ2U7kGnvS",
        "colab": {
          "base_uri": "https://localhost:8080/"
        },
        "outputId": "12f20270-f629-4ce6-f74b-e3c4c1ce9095"
      },
      "execution_count": 19,
      "outputs": [
        {
          "output_type": "stream",
          "name": "stdout",
          "text": [
            "With HNSW:\n",
            "241 ms ± 74.6 ms per loop (mean ± std. dev. of 7 runs, 10 loops each)\n",
            "4.45 s ± 1.6 s per loop (mean ± std. dev. of 7 runs, 1 loop each)\n",
            "Without:\n",
            "6.94 ms ± 89.7 µs per loop (mean ± std. dev. of 7 runs, 100 loops each)\n",
            "3.14 s ± 19.3 ms per loop (mean ± std. dev. of 7 runs, 1 loop each)\n"
          ]
        }
      ]
    },
    {
      "cell_type": "markdown",
      "source": [
        "### ***Item Based***"
      ],
      "metadata": {
        "id": "rwvy4W2MmZVZ"
      }
    },
    {
      "cell_type": "code",
      "source": [
        "class ItemBased(Based):\n",
        "    def fit(self, data):\n",
        "        scalar_dots = data.T.dot(data)\n",
        "        norms = np.matrix(np.sqrt(scalar_dots.diagonal()))\n",
        "        self.similarity = csr_matrix(scalar_dots / norms.T.dot(norms) - np.eye(data.shape[1]))\n",
        "        self.similarity.data = np.nan_to_num(self.similarity.data)\n",
        "        return self\n",
        "\n",
        "    def predict(self, data):\n",
        "        rating = data.dot(self.similarity).A / np.sum(self.similarity.A, axis=0)\n",
        "        rating = np.nan_to_num(rating)\n",
        "        assert rating.shape == data.shape\n",
        "        return rating"
      ],
      "metadata": {
        "id": "ZTAkMkIBpPpc"
      },
      "execution_count": 20,
      "outputs": []
    },
    {
      "cell_type": "markdown",
      "source": [
        "### ***SVD***"
      ],
      "metadata": {
        "id": "mXWa1NV48LgO"
      }
    },
    {
      "cell_type": "code",
      "source": [
        "from sklearn.decomposition import TruncatedSVD\n",
        "\n",
        "class SVD(Based):\n",
        "    def __init__(self, min_n_user_rating=700, n_factors=8):\n",
        "        super().__init__(min_n_user_rating)\n",
        "        self.n_factors = n_factors\n",
        "\n",
        "    def fit(self, data):\n",
        "        data = data[data.getnnz(axis=1) >= self.min_n_user_rating]\n",
        "        self.svd = TruncatedSVD(self.n_factors)\n",
        "        self.svd.fit(data)\n",
        "        return self\n",
        "\n",
        "    def predict(self, data):\n",
        "        U = self.svd.transform(data)\n",
        "        similarity = U.dot(self.svd.components_)\n",
        "\n",
        "        assert similarity.shape == data.shape\n",
        "        return similarity"
      ],
      "metadata": {
        "id": "ZdyJvojd8PXn"
      },
      "execution_count": 21,
      "outputs": []
    },
    {
      "cell_type": "markdown",
      "source": [
        "### ***ContentBased***"
      ],
      "metadata": {
        "id": "zfoPU0W-1jSu"
      }
    },
    {
      "cell_type": "code",
      "source": [
        "class ContentBased(Based):\n",
        "    def fit(self, item_info):\n",
        "        scalar_dots = item_info.dot(item_info.T)\n",
        "        norms = np.sqrt(scalar_dots.diagonal())[np.newaxis]\n",
        "        self.similarity = csr_matrix(scalar_dots / norms.T.dot(norms) - np.eye(item_info.shape[0]))\n",
        "        self.similarity.data = np.nan_to_num(self.similarity.data)\n",
        "        return self\n",
        "      \n",
        "    def predict(self, data):\n",
        "        rating = data.dot(self.similarity).A / np.sum(self.similarity.A, axis=0)\n",
        "        rating = np.nan_to_num(rating)\n",
        "        assert rating.shape == data.shape\n",
        "        return rating"
      ],
      "metadata": {
        "id": "ozZwzUZ_3RyQ"
      },
      "execution_count": 22,
      "outputs": []
    },
    {
      "cell_type": "markdown",
      "source": [
        "## **Autoencoder, VAE**"
      ],
      "metadata": {
        "id": "mD_XIm1eW5NQ"
      }
    },
    {
      "cell_type": "code",
      "source": [
        "def BCE(recon_x, x):\n",
        "    loss = nn.BCELoss()\n",
        "    return loss(recon_x, x)\n",
        "\n",
        "def MSE_masked(recon_x, x):\n",
        "    mask = x > 0\n",
        "    sq_err = torch.pow(x - recon_x, 2).mul(mask)\n",
        "    return torch.mean(torch.sum(sq_err, dim=1) / torch.count_nonzero(mask, dim=1))\n",
        "\n",
        "def MSE(recon_x, x):\n",
        "    loss = nn.MSELoss()\n",
        "    return loss(recon_x, x)"
      ],
      "metadata": {
        "id": "TQY_CzJh5EDO"
      },
      "execution_count": 23,
      "outputs": []
    },
    {
      "cell_type": "code",
      "source": [
        "class Autoencoder(nn.Module):\n",
        "    def __init__(self, p_dims, activation_fn, act_fn_last_layer=None):\n",
        "        super(Autoencoder, self).__init__()\n",
        "        self.activation_fn = activation_fn\n",
        "        self.act_fn_last_layer = act_fn_last_layer\n",
        "\n",
        "        self.p_dims = p_dims\n",
        "        self.q_dims = p_dims[::-1]\n",
        "\n",
        "        self.q_layers = nn.ModuleList([nn.Linear(d_in, d_out) for d_in, d_out in zip(self.q_dims[:-1], self.q_dims[1:])])\n",
        "        self.p_layers = nn.ModuleList([nn.Linear(d_in, d_out) for d_in, d_out in zip(self.p_dims[:-1], self.p_dims[1:])])\n",
        "\n",
        "    def forward(self, input):\n",
        "        h = self.encode(input)\n",
        "        return self.decode(h)\n",
        "\n",
        "    def encode(self, input):\n",
        "        h = nn.functional.normalize(input)\n",
        "        for i, layer in enumerate(self.q_layers):\n",
        "            h = layer(h)\n",
        "            act_fn = self.activation_fn()\n",
        "            h = act_fn(h)\n",
        "        return h\n",
        "\n",
        "    def decode(self, z):\n",
        "        h = z\n",
        "        for i, layer in enumerate(self.p_layers):\n",
        "            h = layer(h)\n",
        "            if i != len(self.p_layers) - 1:\n",
        "                act_fn = self.activation_fn()\n",
        "                h = act_fn(h)\n",
        "            elif self.act_fn_last_layer is not None:\n",
        "                act_fn = self.act_fn_last_layer()\n",
        "                h = act_fn(h)\n",
        "        return h"
      ],
      "metadata": {
        "id": "n3t1euY2W-Bl"
      },
      "execution_count": 24,
      "outputs": []
    },
    {
      "cell_type": "code",
      "source": [
        "class TrainAutoencoder():\n",
        "    def __init__(self, min_n_user_rating=700, n_epoch=40, activation_fn=nn.Sigmoid, act_fn_last_layer=None, loss_fn=MSE, batch_size=10):\n",
        "        self.min_n_user_rating = min_n_user_rating\n",
        "        self.n_epoch = n_epoch\n",
        "        self.activation_fn = activation_fn\n",
        "        self.batch_size = batch_size\n",
        "\n",
        "        self.model = Autoencoder([10, 20, n_items], self.activation_fn, act_fn_last_layer)\n",
        "        self.optimizer = torch.optim.Adam(self.model.parameters(), lr=1e-3, weight_decay=1e-3)\n",
        "        self.criterion = loss_fn\n",
        "\n",
        "    def fit(self, data):\n",
        "        input = data[data.getnnz(axis=1) >= self.min_n_user_rating]\n",
        "        if not (self.criterion == MSE or self.criterion == MSE_masked):\n",
        "            input.data = np.array([input.data > 0])\n",
        "        input = torch.FloatTensor(input.toarray())\n",
        "\n",
        "        for epoch in range(self.n_epoch):\n",
        "            for batch_idx, start_idx in enumerate(range(0, input.shape[0], self.batch_size)):\n",
        "                end_idx = min(start_idx + self.batch_size, input.shape[0])\n",
        "                batch = input[start_idx:end_idx]\n",
        "\n",
        "                self.optimizer.zero_grad()\n",
        "                output = self.model(batch)\n",
        "                loss = self.criterion(output, batch)\n",
        "                loss.backward()\n",
        "                self.optimizer.step()\n",
        "\n",
        "        return self\n",
        "\n",
        "    def predict(self, data):\n",
        "        input = data.copy()\n",
        "        if not (self.criterion == MSE or self.criterion == MSE_masked):\n",
        "            input.data = np.array([input.data > 0])\n",
        "        input = torch.FloatTensor(data.toarray())\n",
        "\n",
        "        self.model.eval()\n",
        "        with torch.no_grad():\n",
        "            rating = self.model(input)\n",
        "        assert rating.shape == data.shape\n",
        "        return rating\n",
        "\n",
        "    def recommend(self, data, k):\n",
        "        preds = self.predict(data)\n",
        "        return np.array(torch.topk(preds, k).indices[:,:k])"
      ],
      "metadata": {
        "id": "uqyKzj_x-JPj"
      },
      "execution_count": 25,
      "outputs": []
    },
    {
      "cell_type": "code",
      "source": [
        "class VAE(nn.Module):\n",
        "    def __init__(self, p_dims, activation_fn, act_fn_last_layer=None):\n",
        "        super(VAE, self).__init__()\n",
        "        self.p_dims = p_dims\n",
        "        self.q_dims = p_dims[::-1]\n",
        "        self.activation_fn = activation_fn\n",
        "        self.act_fn_last_layer = act_fn_last_layer\n",
        "\n",
        "        temp_q_dims = self.q_dims[:-1] + [self.q_dims[-1] * 2]\n",
        "        self.q_layers = nn.ModuleList([nn.Linear(d_in, d_out) for d_in, d_out in zip(temp_q_dims[:-1], temp_q_dims[1:])])\n",
        "        self.p_layers = nn.ModuleList([nn.Linear(d_in, d_out) for d_in, d_out in zip(self.p_dims[:-1], self.p_dims[1:])])\n",
        "    \n",
        "    def forward(self, input):\n",
        "        mu, logvar = self.encode(input)\n",
        "        z = self.reparameterize(mu, logvar)\n",
        "        return self.decode(z), mu, logvar\n",
        "    \n",
        "    def encode(self, input):\n",
        "        h = nn.functional.normalize(input)\n",
        "        for i, layer in enumerate(self.q_layers):\n",
        "            h = layer(h)\n",
        "            if i != len(self.q_layers) - 1:\n",
        "                act_fn = self.activation_fn()\n",
        "                h = act_fn(h)\n",
        "            else:\n",
        "                mu = h[:, :self.q_dims[-1]]\n",
        "                logvar = h[:, self.q_dims[-1]:]\n",
        "        return mu, logvar\n",
        "\n",
        "    def reparameterize(self, mu, logvar):\n",
        "        std = torch.exp(0.5 * logvar)\n",
        "        eps = torch.randn_like(std)\n",
        "        return eps.mul(std).add_(mu)\n",
        "    \n",
        "    def decode(self, z):\n",
        "        h = z\n",
        "        for i, layer in enumerate(self.p_layers):\n",
        "            h = layer(h)\n",
        "            if i != len(self.p_layers) - 1:\n",
        "                act_fn = self.activation_fn()\n",
        "                h = act_fn(h)\n",
        "            elif self.act_fn_last_layer is not None:\n",
        "                act_fn = self.act_fn_last_layer()\n",
        "                h = act_fn(h)\n",
        "        return h"
      ],
      "metadata": {
        "id": "aMmjEUoBScTc"
      },
      "execution_count": 26,
      "outputs": []
    },
    {
      "cell_type": "code",
      "source": [
        "class TrainVAE():\n",
        "    def __init__(self, min_n_user_rating=700, n_epoch=40, activation_fn=nn.Sigmoid, act_fn_last_layer=None, loss_fn=MSE, batch_size=10):\n",
        "        self.min_n_user_rating = min_n_user_rating\n",
        "        self.n_epoch = n_epoch\n",
        "        self.activation_fn = activation_fn\n",
        "        self.batch_size = batch_size\n",
        "\n",
        "        self.model = VAE([10, 20, n_items], self.activation_fn, act_fn_last_layer)\n",
        "        self.optimizer = torch.optim.Adam(self.model.parameters(), lr=1e-3, weight_decay=1e-3)\n",
        "        self.criterion = loss_fn\n",
        "        \n",
        "    def fit(self, data):\n",
        "        input = data[data.getnnz(axis=1) >= self.min_n_user_rating]\n",
        "        if not (self.criterion == MSE or self.criterion == MSE_masked):\n",
        "            input.data = np.array([input.data > 0])\n",
        "        input = torch.FloatTensor(input.toarray())\n",
        "        \n",
        "        self.model.train()\n",
        "        for epoch in range(self.n_epoch):\n",
        "            for batch_idx, start_idx in enumerate(range(0, input.shape[0], self.batch_size)):\n",
        "                end_idx = min(start_idx + self.batch_size, input.shape[0])\n",
        "                batch = input[start_idx:end_idx]\n",
        "\n",
        "                self.optimizer.zero_grad()\n",
        "                output, mu, logvar = self.model(batch)\n",
        "                loss = self.criterion(output, batch)\n",
        "                loss.backward()\n",
        "                self.optimizer.step()      \n",
        "\n",
        "        return self\n",
        "\n",
        "    def predict(self, data):\n",
        "        input = data.copy()\n",
        "        if not (self.criterion == MSE or self.criterion == MSE_masked):\n",
        "            input.data = np.array([input.data > 0])\n",
        "        input = torch.FloatTensor(input.toarray())\n",
        "\n",
        "        self.model.eval()\n",
        "        rating, mu, logvar = self.model(input)\n",
        "        rating.shape == data.shape\n",
        "        return rating\n",
        "\n",
        "    def recommend(self, data, k):\n",
        "        preds = self.predict(data)\n",
        "        return np.array(torch.topk(preds, k).indices[:,:k])"
      ],
      "metadata": {
        "id": "gB61NYwb9ofY"
      },
      "execution_count": 27,
      "outputs": []
    },
    {
      "cell_type": "markdown",
      "source": [
        "## **DSSM**"
      ],
      "metadata": {
        "id": "xGfP2GodyCuJ"
      }
    },
    {
      "cell_type": "code",
      "source": [
        "class DSSM(nn.Module):\n",
        "    def __init__(self, item_dims, user_dims, act_fn=nn.Sigmoid):\n",
        "        super(DSSM, self).__init__()\n",
        "        self.item_layers = nn.ModuleList([nn.Linear(d_in, d_out) for d_in, d_out in zip(item_dims[:-1], item_dims[1:])])\n",
        "        self.user_layers = nn.ModuleList([nn.Linear(d_in, d_out) for d_in, d_out in zip(user_dims[:-1], user_dims[1:])])\n",
        "        self.act_fn = act_fn()\n",
        "\n",
        "    def forward(self, items, users):\n",
        "        for i, layer in enumerate(self.item_layers):\n",
        "            items = layer(items)\n",
        "            items = self.act_fn(items)\n",
        "\n",
        "        for i, layer in enumerate(self.user_layers):\n",
        "            users = layer(users)\n",
        "            users = self.act_fn(users)\n",
        "\n",
        "        cos = nn.CosineSimilarity(dim=2)\n",
        "        users = users.unsqueeze(1).repeat(1, items.shape[0], 1)\n",
        "        items = items.unsqueeze(0).repeat(users.shape[0], 1, 1)\n",
        "        similarity = cos(items, users)\n",
        "\n",
        "        return similarity"
      ],
      "metadata": {
        "id": "EwFV7vRgyGnI"
      },
      "execution_count": 28,
      "outputs": []
    },
    {
      "cell_type": "code",
      "source": [
        "class TrainDSSM():\n",
        "    def __init__(self, min_n_user_rating=700, n_epoch=10, act_fn=nn.Sigmoid, loss_fn=BCE, batch_size=10):\n",
        "        self.min_n_user_rating = min_n_user_rating\n",
        "        self.n_epoch = n_epoch\n",
        "        self.act_fn = act_fn\n",
        "        self.criterion = loss_fn\n",
        "        self.batch_size = batch_size\n",
        "        \n",
        "    def fit(self, data):\n",
        "        input = data[data.getnnz(axis=1) >= self.min_n_user_rating]\n",
        "        input.data = np.array([input.data > 0])\n",
        "        input = torch.FloatTensor(input.toarray())\n",
        "        self.items = torch.transpose(input, 0, 1)\n",
        "        \n",
        "        self.model = DSSM(item_dims=[input.shape[0], 300, 128], user_dims=[input.shape[1], 300, 128], act_fn=self.act_fn)\n",
        "        self.optimizer = torch.optim.Adam(self.model.parameters(), lr=1e-3, weight_decay=1e-3)\n",
        "        \n",
        "        self.model.train()\n",
        "        for epoch in range(self.n_epoch):\n",
        "            for start_idx in range(0, input.shape[0], self.batch_size):\n",
        "                end_idx = min(start_idx + self.batch_size, input.shape[0])\n",
        "                user_batch = input[start_idx:end_idx]\n",
        "                item_batch = self.items\n",
        "\n",
        "                self.optimizer.zero_grad()\n",
        "                similarity = self.model(item_batch, user_batch)\n",
        "                loss = self.criterion(similarity, user_batch)\n",
        "                loss.backward()\n",
        "                self.optimizer.step()\n",
        "\n",
        "        return self\n",
        "\n",
        "    def predict(self, data):\n",
        "        input = data.copy()\n",
        "        input = torch.FloatTensor(input.toarray())\n",
        "\n",
        "        self.model.eval()\n",
        "        similarity = self.model(self.items, input)\n",
        "\n",
        "        return similarity\n",
        "\n",
        "    def recommend(self, data, k):\n",
        "        batches = []\n",
        "\n",
        "        for start_idx in range(0, data.shape[0], self.batch_size):\n",
        "            end_idx = min(start_idx + self.batch_size, data.shape[0])\n",
        "            user_batch = data[start_idx:end_idx]\n",
        "            preds = self.predict(user_batch)\n",
        "            recs_batch = np.array(torch.topk(preds, k).indices[:,:k])\n",
        "            batches.append(recs_batch)\n",
        "        \n",
        "        recs = np.concatenate(batches, axis=0)\n",
        "        return recs"
      ],
      "metadata": {
        "id": "ePm_p6Sa466x"
      },
      "execution_count": 29,
      "outputs": []
    },
    {
      "cell_type": "markdown",
      "source": [
        "## **Score**"
      ],
      "metadata": {
        "id": "Mo12bHuYwPM9"
      }
    },
    {
      "cell_type": "markdown",
      "source": [
        "### ***Score functions***"
      ],
      "metadata": {
        "id": "cf7ice88lf16"
      }
    },
    {
      "cell_type": "code",
      "source": [
        "def recall(matrix_test, matrix_rec, k):\n",
        "    all_relevant = np.diff(matrix_test.indptr)\n",
        "    nonzero_ind = np.array(np.split(matrix_test.indices, matrix_test.indptr[1:-1]))\n",
        "    relevant_rec = np.array(list(map(lambda a, b: len(np.intersect1d(a, b)), nonzero_ind, matrix_rec[:,:k])))\n",
        "\n",
        "    recall = relevant_rec / all_relevant\n",
        "    \n",
        "    return np.nanmean(recall)"
      ],
      "metadata": {
        "id": "BjYfNWGsQtXs"
      },
      "execution_count": 30,
      "outputs": []
    },
    {
      "cell_type": "code",
      "source": [
        "def precision(matrix_test, matrix_rec, k):\n",
        "    batch_users = matrix_rec.shape[0]\n",
        "    topk_rec = matrix_rec[:,:k]\n",
        "    \n",
        "    relevant_rec = np.sum(matrix_test[np.arange(batch_users)[:, np.newaxis], topk_rec].toarray(), axis=1)\n",
        "    precision = relevant_rec / k\n",
        "    \n",
        "    return np.mean(precision)"
      ],
      "metadata": {
        "id": "p1VodU8dopWD"
      },
      "execution_count": 31,
      "outputs": []
    },
    {
      "cell_type": "code",
      "source": [
        "def MAP(matrix_test, matrix_rec, k):\n",
        "    batch_users = matrix_rec.shape[0]\n",
        "    topk_rec = matrix_rec[:,:k]\n",
        "\n",
        "    relevant_by_col = matrix_test[np.arange(batch_users)[:, np.newaxis], topk_rec].toarray()\n",
        "    relevant_rec = np.cumsum(relevant_by_col, axis=1) * relevant_by_col\n",
        "    precision = np.sum(relevant_rec / np.arange(1, k + 1), axis=1) / k\n",
        "\n",
        "    return np.mean(precision)"
      ],
      "metadata": {
        "id": "Q2K8Eiw-GlA1"
      },
      "execution_count": 32,
      "outputs": []
    },
    {
      "cell_type": "code",
      "source": [
        "def nDCG(matrix_test, matrix_rec, k):\n",
        "    batch_users = matrix_rec.shape[0]\n",
        "    topk_rec = matrix_rec[:,:k]\n",
        "    \n",
        "    tp = 1. / np.log2(np.arange(2, k + 2))\n",
        "    DCG = (matrix_test[np.arange(batch_users)[:, np.newaxis], topk_rec].toarray() * tp).sum(axis=1)\n",
        "    IDCG = np.array([(tp[:min(n, k)]).sum() for n in matrix_test.getnnz(axis=1)])\n",
        "\n",
        "    return np.mean(DCG / IDCG)"
      ],
      "metadata": {
        "id": "rYO3SV7ZZnF9"
      },
      "execution_count": 33,
      "outputs": []
    },
    {
      "cell_type": "code",
      "source": [
        "def Diversity(matrix_rec, k, genres):\n",
        "    used_genre = np.zeros((len(matrix_rec), genres.shape[1]), dtype=int)\n",
        "    for i in range(k):\n",
        "        cur_genre = genres.loc[matrix_rec[:,i]].to_numpy()\n",
        "        used_genre = np.logical_or(used_genre, cur_genre)\n",
        "    diversity = np.sum(used_genre, axis=1)\n",
        "\n",
        "    return np.nanmean(diversity) / genres.shape[1]"
      ],
      "metadata": {
        "id": "l0ZiI-CbgpBf"
      },
      "execution_count": 34,
      "outputs": []
    },
    {
      "cell_type": "code",
      "source": [
        "def Scores(test, rec, k):\n",
        "    return recall(test, rec, k), precision(test, rec, k), MAP(test, rec, k), nDCG(test, rec, k), Diversity(rec, k, item_genres)"
      ],
      "metadata": {
        "id": "8m1omAXxo05l"
      },
      "execution_count": 35,
      "outputs": []
    },
    {
      "cell_type": "markdown",
      "source": [
        "Test score functions"
      ],
      "metadata": {
        "id": "SHfNbGAd1858"
      }
    },
    {
      "cell_type": "code",
      "source": [
        "indptr = [0, 3]\n",
        "indices = [0, 3, 4]\n",
        "data = [1, 1, 1]\n",
        "test = csr_matrix((data, indices, indptr), shape=(1, 5))\n",
        "rec = np.array([[0, 1, 3]])\n",
        "\n",
        "assert np.isclose(recall(test, rec, 1), 1/3)\n",
        "assert np.isclose(recall(test, rec, 2), 1/3)\n",
        "assert np.isclose(recall(test, rec, 3), 2/3)\n",
        "\n",
        "assert np.isclose(precision(test, rec, 1), 1)\n",
        "assert np.isclose(precision(test, rec, 2), 1/2)\n",
        "assert np.isclose(precision(test, rec, 3), 2/3)\n",
        "\n",
        "assert np.isclose(MAP(test, rec, 1), 1)\n",
        "assert np.isclose(MAP(test, rec, 2), 1/2)\n",
        "assert np.isclose(MAP(test, rec, 3), 5/9)\n",
        "\n",
        "assert np.isclose(nDCG(test, rec, 1), 1)\n",
        "assert np.isclose(nDCG(test, rec, 2), 1 / (1 + 1/np.log2(3)))\n",
        "assert np.isclose(nDCG(test, rec, 3), 1.5 / (1.5 + 1/np.log2(3)))"
      ],
      "metadata": {
        "id": "IPcB3bsplkAO"
      },
      "execution_count": 36,
      "outputs": []
    },
    {
      "cell_type": "markdown",
      "source": [
        "### ***Comparison of scores***"
      ],
      "metadata": {
        "id": "ixDQNg_kvgof"
      }
    },
    {
      "cell_type": "code",
      "source": [
        "most_pop = MostPopular()\n",
        "trend = Trending()\n",
        "user_based_hnsw = UserBased_HNSW()\n",
        "user_based = UserBased()\n",
        "item_based = ItemBased()\n",
        "svd = SVD()\n",
        "cont_based = ContentBased()\n",
        "autoenc = TrainAutoencoder(loss_fn=MSE_masked, act_fn_last_layer=nn.Sigmoid)\n",
        "vae = TrainVAE(loss_fn=MSE_masked, act_fn_last_layer=nn.Sigmoid)\n",
        "dssm = TrainDSSM()\n",
        "\n",
        "most_pop.fit(train_data, n_items)\n",
        "trend.fit(train_data, n_items)\n",
        "user_based_hnsw.fit(train_data_csr)\n",
        "user_based.fit(train_data_csr)\n",
        "item_based.fit(train_data_csr)\n",
        "svd.fit(train_data_csr)\n",
        "cont_based.fit(csr_matrix(item_genres))\n",
        "autoenc.fit(train_data_csr)\n",
        "vae.fit(train_data_csr)\n",
        "dssm.fit(train_data_csr)\n",
        "\n",
        "for k in [10, 50, 100]:\n",
        "    print('number of reccomendations k =', k)\n",
        "    rec = []\n",
        "    rec.append(most_pop.recommend_subset(np.arange(1, n_users+1), k))\n",
        "    rec.append(trend.recommend_subset(np.arange(1, n_users+1), k))\n",
        "    rec.append(user_based_hnsw.recommend(train_data_csr, k))\n",
        "    rec.append(user_based.recommend(train_data_csr, k))    \n",
        "    rec.append(item_based.recommend(train_data_csr, k))\n",
        "    rec.append(svd.recommend(train_data_csr, k))\n",
        "    rec.append(cont_based.recommend(train_data_csr, k))\n",
        "    rec.append(autoenc.recommend(train_data_csr, k))\n",
        "    rec.append(vae.recommend(train_data_csr, k))\n",
        "    rec.append(dssm.recommend(train_data_csr, k))\n",
        "\n",
        "    print(pd.DataFrame(data = [Scores(test_data_csr, model_rec, k) for model_rec in rec], \n",
        "                       columns=['recall', 'precision', 'MAP', 'nDCG', 'Diversity(genres)'], \n",
        "                       index=['MostPopular', 'Trending', 'UserBased + HNSW', 'UserBased', 'ItemBased', 'SVD', 'ContentBased', 'Autoencoder', 'VAE', 'DSSM']))\n",
        "    print()"
      ],
      "metadata": {
        "id": "pUeOodEIFU_5",
        "colab": {
          "base_uri": "https://localhost:8080/"
        },
        "outputId": "0b34ca91-59bc-496a-90ec-38f214167e39"
      },
      "execution_count": 37,
      "outputs": [
        {
          "output_type": "stream",
          "name": "stdout",
          "text": [
            "number of reccomendations k = 10\n",
            "                    recall  precision       MAP      nDCG  Diversity(genres)\n",
            "MostPopular       0.045517   0.195348  0.319269  0.246276           0.500000\n",
            "Trending          0.045517   0.195348  0.317442  0.245941           0.500000\n",
            "UserBased + HNSW  0.039473   0.175778  0.258627  0.205810           0.560210\n",
            "UserBased         0.036307   0.173858  0.273401  0.204494           0.521109\n",
            "ItemBased         0.000445   0.001093  0.000604  0.001060           0.330381\n",
            "SVD               0.046257   0.210745  0.335148  0.253186           0.506834\n",
            "ContentBased      0.008148   0.041854  0.057432  0.048297           0.078762\n",
            "Autoencoder       0.036043   0.175811  0.281435  0.209942           0.500000\n",
            "VAE               0.041910   0.190629  0.305104  0.231586           0.500000\n",
            "DSSM              0.033126   0.158692  0.244422  0.188271           0.500000\n",
            "\n",
            "number of reccomendations k = 50\n",
            "                    recall  precision       MAP      nDCG  Diversity(genres)\n",
            "MostPopular       0.161879   0.148702  0.108950  0.402588           0.888889\n",
            "Trending          0.161879   0.148702  0.108608  0.402300           0.888889\n",
            "UserBased + HNSW  0.155253   0.147944  0.095321  0.375114           0.873961\n",
            "UserBased         0.136292   0.137020  0.095743  0.347827           0.913355\n",
            "ItemBased         0.123177   0.087325  0.017060  0.187021           0.687712\n",
            "SVD               0.177138   0.170040  0.120119  0.437985           0.800147\n",
            "ContentBased      0.041364   0.041921  0.020640  0.091703           0.233131\n",
            "Autoencoder       0.142477   0.138550  0.097629  0.354051           0.944444\n",
            "VAE               0.143554   0.139815  0.101938  0.365246           0.944444\n",
            "DSSM              0.130245   0.127652  0.084977  0.315296           0.888889\n",
            "\n",
            "number of reccomendations k = 100\n",
            "                    recall  precision       MAP      nDCG  Diversity(genres)\n",
            "MostPopular       0.248653   0.121457  0.066760  0.519213           0.944444\n",
            "Trending          0.247340   0.121320  0.066601  0.517902           0.944444\n",
            "UserBased + HNSW  0.249336   0.125104  0.060807  0.506995           0.945999\n",
            "UserBased         0.219528   0.115286  0.059763  0.466155           0.949347\n",
            "ItemBased         0.281759   0.112409  0.021116  0.394089           0.843322\n",
            "SVD               0.291304   0.145144  0.076819  0.595601           0.900350\n",
            "ContentBased      0.083191   0.041978  0.012777  0.143967           0.358692\n",
            "Autoencoder       0.225321   0.116323  0.061330  0.469743           0.944444\n",
            "VAE               0.227882   0.117358  0.063487  0.482344           0.944444\n",
            "DSSM              0.212160   0.109293  0.053787  0.426199           0.944444\n",
            "\n"
          ]
        }
      ]
    },
    {
      "cell_type": "markdown",
      "source": [
        "## **Selection of parameters**"
      ],
      "metadata": {
        "id": "WaRCEu6u0zOU"
      }
    },
    {
      "cell_type": "markdown",
      "source": [
        "### *Dependence nDCG on n_factors*"
      ],
      "metadata": {
        "id": "D6thEAZVtUi1"
      }
    },
    {
      "cell_type": "code",
      "source": [
        "import matplotlib.pyplot as plt\n",
        "\n",
        "plt.figure(figsize=(10, 5))\n",
        "plt.xlabel('n_factors')\n",
        "plt.ylabel('nDCG')\n",
        "plt.title('nDCG(n_factors)')\n",
        "plt.grid(True)\n",
        "\n",
        "x = np.arange(1, 21)\n",
        "y = []\n",
        "for i in x:\n",
        "    svd = SVD(n_factors=i)\n",
        "    svd.fit(train_data_csr)\n",
        "    preds = svd.recommend(train_data_csr, k=10)\n",
        "    y.append(nDCG(test_data_csr, preds, k=10))\n",
        "plt.plot(x, y)\n",
        "\n",
        "plt.legend()"
      ],
      "metadata": {
        "id": "uGUjQLEWtrHH",
        "colab": {
          "base_uri": "https://localhost:8080/",
          "height": 0
        },
        "outputId": "0b7f6463-0cc1-4f73-c2b8-f717a26f01d1"
      },
      "execution_count": 38,
      "outputs": [
        {
          "output_type": "stream",
          "name": "stderr",
          "text": [
            "WARNING:matplotlib.legend:No handles with labels found to put in legend.\n"
          ]
        },
        {
          "output_type": "execute_result",
          "data": {
            "text/plain": [
              "<matplotlib.legend.Legend at 0x7fbdadfbffd0>"
            ]
          },
          "metadata": {},
          "execution_count": 38
        },
        {
          "output_type": "display_data",
          "data": {
            "text/plain": [
              "<Figure size 720x360 with 1 Axes>"
            ],
            "image/png": "[encoded data removed]"
          },
          "metadata": {
            "needs_background": "light"
          }
        }
      ]
    },
    {
      "cell_type": "markdown",
      "source": [
        "### *Hyperparameter for UserBased and ItemBased*"
      ],
      "metadata": {
        "id": "5CjkfY_RAecE"
      }
    },
    {
      "cell_type": "code",
      "source": [
        "x = np.arange(0, 1001, 100)\n",
        "y = []\n",
        "for min_n_rating in x:\n",
        "    user_based = UserBased(min_n_rating)\n",
        "    user_based.fit(train_data_csr)\n",
        "    recs = user_based.recommend(train_data_csr, k=10)\n",
        "    y.append(nDCG(test_data_csr, recs, k=10))"
      ],
      "metadata": {
        "id": "WVgCI67w5kkH"
      },
      "execution_count": 39,
      "outputs": []
    },
    {
      "cell_type": "code",
      "source": [
        "import matplotlib.pyplot as plt\n",
        "\n",
        "plt.figure(figsize=(10, 5))\n",
        "plt.xlabel('min_n_rating')\n",
        "plt.ylabel('nDCG')\n",
        "plt.title('nDCG(min_n_rating)')\n",
        "plt.grid(True)\n",
        "plt.plot(x, y)\n",
        "plt.legend()"
      ],
      "metadata": {
        "id": "AjP3zBVv-lfT",
        "colab": {
          "base_uri": "https://localhost:8080/",
          "height": 386
        },
        "outputId": "e26de160-6e59-43c4-a2f7-db844779a57f"
      },
      "execution_count": 40,
      "outputs": [
        {
          "output_type": "stream",
          "name": "stderr",
          "text": [
            "WARNING:matplotlib.legend:No handles with labels found to put in legend.\n"
          ]
        },
        {
          "output_type": "execute_result",
          "data": {
            "text/plain": [
              "<matplotlib.legend.Legend at 0x7fbdaea47510>"
            ]
          },
          "metadata": {},
          "execution_count": 40
        },
        {
          "output_type": "display_data",
          "data": {
            "text/plain": [
              "<Figure size 720x360 with 1 Axes>"
            ],
            "image/png": "[encoded data removed]"
          },
          "metadata": {
            "needs_background": "light"
          }
        }
      ]
    },
    {
      "cell_type": "markdown",
      "source": [
        "### *Activation function for Autoencoder*"
      ],
      "metadata": {
        "id": "MSDesZCpPn2i"
      }
    },
    {
      "cell_type": "code",
      "source": [
        "act_fns = [nn.Sigmoid, nn.Tanh, nn.Softmax, nn.ReLU]\n",
        "score = []\n",
        "k = 100\n",
        "for act_fn in act_fns:\n",
        "    autoenc = TrainAutoencoder(activation_fn=act_fn)\n",
        "    autoenc.fit(train_data_csr)\n",
        "    rec = autoenc.recommend(train_data_csr, k)\n",
        "    score.append(nDCG(test_data_csr, rec, k))\n",
        "print(pd.DataFrame(data=score, columns=['nDCG'], index=['Sigmoid', 'Tanh', 'Softmax', 'ReLU']))"
      ],
      "metadata": {
        "colab": {
          "base_uri": "https://localhost:8080/"
        },
        "id": "LrXwgdpCPnQ-",
        "outputId": "d5afe841-9214-465f-e970-c19ce76f5b23"
      },
      "execution_count": 41,
      "outputs": [
        {
          "output_type": "stream",
          "name": "stdout",
          "text": [
            "             nDCG\n",
            "Sigmoid  0.473520\n",
            "Tanh     0.473508\n",
            "Softmax  0.358701\n",
            "ReLU     0.474481\n"
          ]
        }
      ]
    },
    {
      "cell_type": "markdown",
      "source": [
        "### *Loss Function for Autoencoder*"
      ],
      "metadata": {
        "id": "B_VLsuzx_SB2"
      }
    },
    {
      "cell_type": "code",
      "source": [
        "score = []\n",
        "k = 100\n",
        "\n",
        "autoenc = TrainAutoencoder(loss_fn=BCE, act_fn_last_layer=nn.Sigmoid)\n",
        "autoenc.fit(train_data_csr)\n",
        "rec = autoenc.recommend(train_data_csr, k)\n",
        "score.append(nDCG(test_data_csr, rec, k))\n",
        "\n",
        "autoenc = TrainAutoencoder(loss_fn=MSE, act_fn_last_layer=nn.Sigmoid)\n",
        "autoenc.fit(train_data_csr)\n",
        "rec = autoenc.recommend(train_data_csr, k)\n",
        "score.append(nDCG(test_data_csr, rec, k))\n",
        "\n",
        "autoenc = TrainAutoencoder(loss_fn=MSE_masked, act_fn_last_layer=nn.Sigmoid)\n",
        "autoenc.fit(train_data_csr)\n",
        "rec = autoenc.recommend(train_data_csr, k)\n",
        "score.append(nDCG(test_data_csr, rec, k))\n",
        "\n",
        "print(pd.DataFrame(data=score, columns=['nDCG'], index=['BCE', 'MSE', 'MSE_masked']))"
      ],
      "metadata": {
        "colab": {
          "base_uri": "https://localhost:8080/"
        },
        "id": "UTPhLlQ3_iY9",
        "outputId": "6b8b1e6a-d977-4a3c-d5a0-467baec70fd1"
      },
      "execution_count": 42,
      "outputs": [
        {
          "output_type": "stream",
          "name": "stdout",
          "text": [
            "                nDCG\n",
            "BCE         0.424927\n",
            "MSE         0.475180\n",
            "MSE_masked  0.481355\n"
          ]
        }
      ]
    },
    {
      "cell_type": "markdown",
      "source": [
        "### *Activation function for last layer*"
      ],
      "metadata": {
        "id": "2rp0bU8Fhu6M"
      }
    },
    {
      "cell_type": "code",
      "source": [
        "act_fns = [nn.Sigmoid, nn.Tanh, nn.Softmax, nn.ReLU, None]\n",
        "score = []\n",
        "k = 100\n",
        "for act_fn in act_fns:\n",
        "    autoenc = TrainAutoencoder(act_fn_last_layer=act_fn, loss_fn=MSE_masked)\n",
        "    autoenc.fit(train_data_csr)\n",
        "    rec = autoenc.recommend(train_data_csr, k)\n",
        "    score.append(nDCG(test_data_csr, rec, k))\n",
        "print(pd.DataFrame(data=score, columns=['nDCG'], index=['Sigmoid', 'Tanh', 'Softmax', 'ReLU', 'None']))"
      ],
      "metadata": {
        "colab": {
          "base_uri": "https://localhost:8080/"
        },
        "id": "Rs2bM0cIhoQV",
        "outputId": "101a47e6-cbd4-4140-8c09-f82802d1e4de"
      },
      "execution_count": 43,
      "outputs": [
        {
          "output_type": "stream",
          "name": "stdout",
          "text": [
            "             nDCG\n",
            "Sigmoid  0.480289\n",
            "Tanh     0.449167\n",
            "Softmax  0.426787\n",
            "ReLU     0.324482\n",
            "None     0.397011\n"
          ]
        }
      ]
    }
  ],
  "metadata": {
    "colab": {
      "collapsed_sections": [
        "fbxbB1DKAW1A",
        "YFxdAKxw7qLR",
        "QKn1USDv-To3",
        "O0_X8jUKlXd0",
        "IZqVipeewHPV",
        "zgPNJJgNnUX5",
        "JwOBs_cBmNuz",
        "rwvy4W2MmZVZ",
        "zfoPU0W-1jSu",
        "FWYqmt1YSYOr",
        "Mo12bHuYwPM9",
        "cf7ice88lf16",
        "ixDQNg_kvgof",
        "D6thEAZVtUi1",
        "5CjkfY_RAecE",
        "MSDesZCpPn2i"
      ],
      "provenance": []
    },
    "kernelspec": {
      "display_name": "Python 3",
      "name": "python3"
    },
    "language_info": {
      "name": "python"
    },
    "gpuClass": "standard"
  },
  "nbformat": 4,
  "nbformat_minor": 0
}